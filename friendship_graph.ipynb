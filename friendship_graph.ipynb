{
 "cells": [
  {
   "cell_type": "code",
   "execution_count": 1,
   "metadata": {
    "collapsed": true
   },
   "outputs": [],
   "source": [
    "from twitter import *\n",
    "import oauth2 as oauth\n",
    "import requests\n",
    "import json\n",
    "import sys\n",
    "import networkx as nx\n",
    "import time\n",
    "import pickle\n",
    "import collections\n",
    "import matplotlib.pyplot as plt\n",
    "import community\n",
    "from sys import maxsize\n",
    "from functools import partial"
   ]
  },
  {
   "cell_type": "code",
   "execution_count": 2,
   "metadata": {
    "collapsed": true
   },
   "outputs": [],
   "source": [
    "def make_twitter_request(twitter_api_func, max_errors=10, *args, **kw):\n",
    "    # A nested helper function that handles common HTTPErrors. Return an updated\n",
    "    # value for wait_period if the problem is a 500 level error. Block until the\n",
    "    # rate limit is reset if it's a rate limiting issue (429 error). Returns None\n",
    "    # for 401 and 404 errors, which requires special handling by the caller.\n",
    "    def handle_twitter_http_error(e, wait_period=2, sleep_when_rate_limited=True):\n",
    "        if wait_period > 3600: # Seconds\n",
    "            print('Too many retries. Quitting.', file=sys.stderr)\n",
    "            raise e\n",
    "        if e.e.code == 401:\n",
    "            return None\n",
    "        elif e.e.code == 404:\n",
    "            print('Encountered 404 Error (Not Found)', file=sys.stderr)\n",
    "            return None\n",
    "        elif e.e.code == 429:\n",
    "            print('Encountered 429 Error (Rate Limit Exceeded)', file=sys.stderr)\n",
    "            if sleep_when_rate_limited:\n",
    "                print(\"Retrying in 15 minutes...ZzZ...\", file=sys.stderr)\n",
    "                sys.stderr.flush()\n",
    "                time.sleep(60*15 + 5)\n",
    "                print('...ZzZ...Awake now and trying again.', file=sys.stderr)\n",
    "                return 2\n",
    "            else:\n",
    "                raise e # Caller must handle the rate limiting issue\n",
    "        elif e.e.code in (500, 502, 503, 504):\n",
    "            print('Encountered %i Error. Retrying in %i seconds' % (e.e.code, wait_period), file=sys.stderr)\n",
    "            time.sleep(wait_period)\n",
    "            wait_period *= 1.5\n",
    "            return wait_period\n",
    "        else:\n",
    "            raise e\n",
    "\n",
    "    # End of nested helper function\n",
    "\n",
    "    wait_period = 2\n",
    "    error_count = 0\n",
    "    while True:\n",
    "        try:\n",
    "            return twitter_api_func(*args, **kw)\n",
    "        except TwitterHTTPError as e:\n",
    "            error_count = 0\n",
    "            wait_period = handle_twitter_http_error(e, wait_period)\n",
    "            if wait_period is None:\n",
    "                return\n",
    "        except URLError as e:\n",
    "            error_count += 1\n",
    "            print(\"URLError encountered. Continuing.\", file=sys.stderr)\n",
    "            if error_count > max_errors:\n",
    "                print(\"Too many consecutive errors...bailing out.\", file=sys.stderr)\n",
    "                raise\n",
    "        except BadStatusLine as e:\n",
    "            error_count += 1\n",
    "            print >> sys.stderr, \"BadStatusLine encountered. Continuing.\"\n",
    "            if error_count > max_errors:\n",
    "                print(\"Too many consecutive errors...bailing out.\", file=sys.stderr)\n",
    "                raise"
   ]
  },
  {
   "cell_type": "code",
   "execution_count": 3,
   "metadata": {
    "collapsed": true
   },
   "outputs": [],
   "source": [
    "def getKeysCount():\n",
    "    with open('auth_dict.json','r') as f:\n",
    "        twtr_auth = json.load(f) \n",
    "    return len(twtr_auth['consumer_key'].split(\",\"))"
   ]
  },
  {
   "cell_type": "code",
   "execution_count": 4,
   "metadata": {
    "collapsed": true
   },
   "outputs": [],
   "source": [
    "def graphBuilder(user_name):\n",
    "    max_twitter_keys = 1\n",
    "    max_twitter_keys = getKeysCount()\n",
    "    depth = 3\n",
    "    G = nx.Graph()\n",
    "    id_to_name_dict = {} \n",
    "    count = 0\n",
    "    key_counter, key_index = 0,0\n",
    "    api_hits, cursor  = 0, -1\n",
    "    rate_limit = 14\n",
    "    node_count = 1\n",
    "    window_frame = 900\n",
    "    timeLag = window_frame / (rate_limit * max_twitter_keys) + 0.05\n",
    "    bfs_nodes = [user_name]\n",
    "    G.add_node(user_name)\n",
    "    stop_flag = True\n",
    "    while len(bfs_nodes) > 0 and stop_flag: \n",
    "        cursor = -1\n",
    "        curr_user_Name = bfs_nodes[0]\n",
    "        bfs_nodes = bfs_nodes[1:]\n",
    "        t = getTwitterHandle(key_index)\t\n",
    "        while cursor != 0:\n",
    "            if api_hits == rate_limit:\n",
    "                key_counter = key_counter + 1\n",
    "                key_index = key_counter % max_twitter_keys\n",
    "                t = getTwitterHandle(key_index) \n",
    "                api_hits = 0\n",
    "            if node_count < pow(5, depth) + 1: \n",
    "                api_hits = api_hits + 1\n",
    "                top_five_friends = getTopReciprocalFriends(t, curr_user_Name, id_to_name_dict, timeLag)\n",
    "                cursor = 0 \n",
    "                bfs_nodes = bfs_nodes + top_five_friends;\n",
    "                node_count = node_count + 5\n",
    "                print('Number of nodes in graph : ' + str(node_count))\n",
    "                for i in top_five_friends:\n",
    "                    G.add_node(i)\n",
    "                    G.add_edge(curr_user_Name, i)\n",
    "            else:\n",
    "                stop_flag = False\n",
    "                break\n",
    "    return G"
   ]
  },
  {
   "cell_type": "code",
   "execution_count": 5,
   "metadata": {
    "collapsed": true
   },
   "outputs": [],
   "source": [
    "def getTopReciprocalFriends(t, curr_user_name, id_to_name_dict, timeLag):\n",
    "    print('Searching top five Reciprocal Friends :' + curr_user_name)\n",
    "    temp_dict = collections.OrderedDict()\n",
    "    friends = make_twitter_request(t.friends.ids,screen_name=curr_user_name, count = 5000)\n",
    "    followers = make_twitter_request(t.followers.ids,screen_name=curr_user_name, count = 5000)\n",
    "    reciprocal_friends = set(friends['ids']) & set(followers['ids']) \n",
    "    time.sleep(timeLag)\n",
    "    reciFrnsIdList = list(reciprocal_friends)[:100] \n",
    "    for i in range(len(reciFrnsIdList)):\n",
    "        temp = t.users.lookup(user_id=reciFrnsIdList[i], _timeout=None)\n",
    "        if temp[0]['protected'] != True:\n",
    "            temp_dict[temp[0]['id']] = temp[0]['followers_count']\n",
    "    top_five_Ids = [i[0] for i in list(temp_dict.items())[-5:]]\n",
    "    top_five_names = []\n",
    "    for i in range(len(top_five_Ids)):\n",
    "        temp = t.users.lookup(user_id=top_five_Ids[i], _timeout=None)\n",
    "        id_to_name_dict[temp[0]['id']] = temp[0]['screen_name']\n",
    "        top_five_names.append(temp[0]['screen_name']);\n",
    "    return top_five_names"
   ]
  },
  {
   "cell_type": "code",
   "execution_count": 6,
   "metadata": {
    "collapsed": true
   },
   "outputs": [],
   "source": [
    "def getTwitterHandle(index):\n",
    "    with open('auth_dict.json','r') as f:\n",
    "        twtr_auth = json.load(f)\n",
    "    try:\n",
    "        consumer_key_list = twtr_auth['consumer_key'].split(\",\")\n",
    "        consumer_secret_key_list = twtr_auth['consumer_secret'].split(\",\")\n",
    "        token_key_list = twtr_auth['token'].split(\",\")\n",
    "        token_secret_list = twtr_auth['token_secret'].split(\",\")\n",
    "        consumer_key = consumer_key_list[index]\n",
    "        consumer_secret_key = consumer_secret_key_list[index]\n",
    "        token_key = token_key_list[index]\n",
    "        token_secret = token_secret_list[index]\n",
    "        t = Twitter(auth=OAuth(token_key,token_secret, consumer_key, consumer_secret_key))\n",
    "        \n",
    "        return t\n",
    "    except:\n",
    "        e = sys.exc_info()[0]\n",
    "        print('Exception caught: ' + str(e))\n",
    "        return None"
   ]
  },
  {
   "cell_type": "code",
   "execution_count": null,
   "metadata": {},
   "outputs": [
    {
     "name": "stdout",
     "output_type": "stream",
     "text": [
      "Searching top five Reciprocal Friends :NimishPatankar\n",
      "Number of nodes in graph : 6\n",
      "Searching top five Reciprocal Friends :282singhVivek\n",
      "Number of nodes in graph : 11\n",
      "Searching top five Reciprocal Friends :Atharva_Garate\n",
      "Number of nodes in graph : 16\n",
      "Searching top five Reciprocal Friends :bhumijoshi2\n",
      "Number of nodes in graph : 21\n",
      "Searching top five Reciprocal Friends :Bombayduck10\n",
      "Number of nodes in graph : 26\n",
      "Searching top five Reciprocal Friends :MehulSuhan\n",
      "Number of nodes in graph : 31\n",
      "Searching top five Reciprocal Friends :aliveway\n",
      "Number of nodes in graph : 36\n",
      "Searching top five Reciprocal Friends :NimishPatankar\n",
      "Number of nodes in graph : 41\n",
      "Searching top five Reciprocal Friends :bubblegurrl\n",
      "Number of nodes in graph : 46\n",
      "Searching top five Reciprocal Friends :MmmSexFacts\n"
     ]
    }
   ],
   "source": [
    "G = graphBuilder('NimishPatankar') # add user name as argument\n",
    "plt.figure(figsize=(10, 10))\n",
    "plt.axis('off')\n",
    "parts = community.best_partition(G)  \n",
    "position = nx.spring_layout(G)  \n",
    "nx.draw_networkx_nodes(G, position, node_size=100, cmap=plt.cm.RdYlBu, node_color=list(parts.values()))\n",
    "nx.draw_networkx_edges(G, position, alpha=0.5)\n",
    "plt.show(G)\n"
   ]
  }
 ],
 "metadata": {
  "kernelspec": {
   "display_name": "Python 3",
   "language": "python",
   "name": "python3"
  },
  "language_info": {
   "codemirror_mode": {
    "name": "ipython",
    "version": 3
   },
   "file_extension": ".py",
   "mimetype": "text/x-python",
   "name": "python",
   "nbconvert_exporter": "python",
   "pygments_lexer": "ipython3",
   "version": "3.6.3"
  }
 },
 "nbformat": 4,
 "nbformat_minor": 2
}
